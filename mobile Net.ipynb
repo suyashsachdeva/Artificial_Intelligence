{
 "cells": [
  {
   "cell_type": "code",
   "execution_count": null,
   "source": [],
   "outputs": [],
   "metadata": {}
  },
  {
   "cell_type": "markdown",
   "source": [
    "Mobile Nets are smaller than the standard CNNs with almost similar accuracy as its name suggests that these are mainly made to be operated from the mobile. The VGG16 sizze is 553 MB on the other hand the size of the largest mobile Nets is around 17 MB. \r\n",
    "If talking in terms of the total parameters VGG16 has around 138,000,000 on the otherhand Mobile net have 4,200,000 at max\r\n",
    "\r\n",
    "You can see the difference in the size of the Typical CNNs and Mobile Nets"
   ],
   "metadata": {}
  }
 ],
 "metadata": {
  "orig_nbformat": 4,
  "language_info": {
   "name": "python"
  }
 },
 "nbformat": 4,
 "nbformat_minor": 2
}