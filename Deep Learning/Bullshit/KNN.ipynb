{
 "cells": [
  {
   "cell_type": "code",
   "execution_count": 1,
   "source": [
    "from loading import LoadingData\r\n",
    "from image_processing import Preprocess\r\n",
    "from sklearn.preprocessing import LabelEncoder\r\n",
    "from sklearn.neighbors import KNeighborsClassifier\r\n",
    "from sklearn.metrics import classification_report\r\n",
    "from sklearn.model_selection import train_test_split\r\n",
    "from imutils import paths\r\n",
    "import argparse"
   ],
   "outputs": [],
   "metadata": {}
  },
  {
   "cell_type": "markdown",
   "source": [
    "The cell below is for is basically for the command line arguments "
   ],
   "metadata": {}
  },
  {
   "cell_type": "code",
   "execution_count": null,
   "source": [
    "ap = argparse.ArgumentParser()\r\n",
    "ap.add_argument(\"-d\", \"--dataset\",\r\n",
    " requried=True, help=\"path to input dataset\")\r\n",
    "\r\n",
    "ap.add_argument(\"-k\", \"--neighbors\", type=int,\r\n",
    " default=1,help =\"# of the nearest neighbors for classification\")\r\n",
    "\r\n",
    "ap.add_argument(\"-j\", \"--job\", type=int, \r\n",
    "default=-1, help=\"# of jobs of k-NN distance (-1 uses all the available cores)\")\r\n",
    "args = vars(ap.parse_args())\r\n"
   ],
   "outputs": [],
   "metadata": {}
  },
  {
   "cell_type": "code",
   "execution_count": null,
   "source": [
    "# grabig the list of images\r\n",
    "print(\"[INFO] loading images...\")\r\n",
    "imagePaths = list(paths.list_images(args[\"dataset\"]))\r\n",
    "\r\n",
    "# imitializing the imagws for preprocessing, loading dataset and reshaping the matrix\r\n",
    "sp = Preprocess(32,32)\r\n",
    "sdl = LoadingData(preprocessing=[sp])\r\n",
    "(data, labels) = sdl.load(imagePaths)\r\n",
    "data = data.reshape((data.shape[0], 3072))\r\n",
    "\r\n",
    "# Showing the memory consumption of the image \r\n",
    "print(\"[INFO] feature matrix: {:.1f}MB\".format(data.nbytes/(1024*1000)))"
   ],
   "outputs": [],
   "metadata": {}
  },
  {
   "cell_type": "code",
   "execution_count": null,
   "source": [
    "# This encodes variables as untegers \r\n",
    "le = LabelEncoder()\r\n",
    "labels = le.fit_transform(labels)\r\n",
    "\r\n",
    "# This is where we are spliting our data\r\n",
    "trainx, testx, trainy, testy = train_test_split(data, labels, test_size=0.25, random_state=42)"
   ],
   "outputs": [],
   "metadata": {}
  },
  {
   "cell_type": "code",
   "execution_count": null,
   "source": [
    "print(\"[INFO] evaluating K-NN classifier...\")\r\n",
    "model = KNeighborsClassifier(n_neighbors=args[\"neighbors\"], n_jobs=args[\"jobs\"])\r\n",
    "model.fit(trainx, trainy)\r\n",
    "print(classification_report(testy, model.predict(testx), target_names=le.classes_))"
   ],
   "outputs": [],
   "metadata": {}
  }
 ],
 "metadata": {
  "orig_nbformat": 4,
  "language_info": {
   "name": "python",
   "version": "3.9.4",
   "mimetype": "text/x-python",
   "codemirror_mode": {
    "name": "ipython",
    "version": 3
   },
   "pygments_lexer": "ipython3",
   "nbconvert_exporter": "python",
   "file_extension": ".py"
  },
  "kernelspec": {
   "name": "python3",
   "display_name": "Python 3.9.4 64-bit"
  },
  "interpreter": {
   "hash": "8934747c923e747831e0f17a40e9012e1def99ed1de5f3713c68cc42b4047f71"
  }
 },
 "nbformat": 4,
 "nbformat_minor": 2
}