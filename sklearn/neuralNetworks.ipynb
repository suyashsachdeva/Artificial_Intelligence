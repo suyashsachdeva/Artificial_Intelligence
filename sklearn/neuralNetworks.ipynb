{
 "cells": [
  {
   "cell_type": "markdown",
   "source": [
    "#Neural Networks\r\n",
    "\r\n",
    "This is used for complex learning and this is required when we require to features and the relation between the features step by step and for that their are layers in neural networks and each layer is responsible for identifying some feature. With many fully connected layers their are a lot of variable/weights which can be trained and thus increasing the amount of factors that it can consider while calculating the result. This also tells us that it requires a lot of data rather than a very small amount of like we give in machine learning and will not perform with small datas. As machine learning models have a limit of learning from a dataset and after an amount of training it is not able learn a lot from the information that is being given so to utilize this we make deep learning as it can learn on larger amounts of information. But can we do the same by introducting a lot of features for the machine learning model. This will not be effecient as machine learning model treat each variable individually and it is adviced to remove to interrealted variable or reduce them to one single feature.  But as in deep learning as each unit/neuron/etc.. is connected with all the neurons of the previous layer they are actually able to relate between two features and combine them and understand their combined influence this is not the same as the multiple factor or a equation as the computer is combinig two qualities and treating it as a combined unit to analize a person.\r\n",
    "\r\n",
    "\r\n",
    "Underfitting:- This is when a our model find a very simple relation to give the output \r\n",
    "Overfitting:- When our model instead of generanlization try to find a exact equation for the values given to it.\r\n",
    "\r\n",
    "Both of the problems lead to errors and give rise to a very poor model and need to be prevented from happening. Problem like over fitting are caused when their is a lack of regulization of the data."
   ],
   "metadata": {}
  },
  {
   "cell_type": "code",
   "execution_count": null,
   "source": [],
   "outputs": [],
   "metadata": {}
  }
 ],
 "metadata": {
  "orig_nbformat": 4,
  "language_info": {
   "name": "python"
  }
 },
 "nbformat": 4,
 "nbformat_minor": 2
}